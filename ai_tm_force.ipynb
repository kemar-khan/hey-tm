{
  "nbformat": 4,
  "nbformat_minor": 0,
  "metadata": {
    "colab": {
      "provenance": [],
      "authorship_tag": "ABX9TyMdtv+WQUPODFX0fqKwtGPP",
      "include_colab_link": true
    },
    "kernelspec": {
      "name": "python3",
      "display_name": "Python 3"
    },
    "language_info": {
      "name": "python"
    }
  },
  "cells": [
    {
      "cell_type": "markdown",
      "metadata": {
        "id": "view-in-github",
        "colab_type": "text"
      },
      "source": [
        "<a href=\"https://colab.research.google.com/github/kemar-khan/hey-tm/blob/main/ai_tm_force.ipynb\" target=\"_parent\"><img src=\"https://colab.research.google.com/assets/colab-badge.svg\" alt=\"Open In Colab\"/></a>"
      ]
    },
    {
      "cell_type": "markdown",
      "source": [
        "# **Creating Variation of \"Hey TM\"**"
      ],
      "metadata": {
        "id": "KMGAQqtuoLpS"
      }
    },
    {
      "cell_type": "code",
      "execution_count": 1,
      "metadata": {
        "colab": {
          "base_uri": "https://localhost:8080/"
        },
        "id": "kP1sXuaZk7BJ",
        "outputId": "4f987629-4631-4578-f3e8-5ee71b35f1c7"
      },
      "outputs": [
        {
          "output_type": "stream",
          "name": "stdout",
          "text": [
            "\u001b[?25l   \u001b[90m━━━━━━━━━━━━━━━━━━━━━━━━━━━━━━━━━━━━━━━━\u001b[0m \u001b[32m0.0/86.1 kB\u001b[0m \u001b[31m?\u001b[0m eta \u001b[36m-:--:--\u001b[0m\r\u001b[2K   \u001b[90m━━━━━━━━━━━━━━━━━━━━━━━━━━━━━━━━━━━━━━━━\u001b[0m \u001b[32m86.1/86.1 kB\u001b[0m \u001b[31m3.0 MB/s\u001b[0m eta \u001b[36m0:00:00\u001b[0m\n",
            "\u001b[2K   \u001b[90m━━━━━━━━━━━━━━━━━━━━━━━━━━━━━━━━━━━━━━━━\u001b[0m \u001b[32m109.4/109.4 kB\u001b[0m \u001b[31m6.9 MB/s\u001b[0m eta \u001b[36m0:00:00\u001b[0m\n",
            "\u001b[2K   \u001b[90m━━━━━━━━━━━━━━━━━━━━━━━━━━━━━━━━━━━━━━━━\u001b[0m \u001b[32m248.5/248.5 kB\u001b[0m \u001b[31m11.9 MB/s\u001b[0m eta \u001b[36m0:00:00\u001b[0m\n",
            "\u001b[?25h"
          ]
        },
        {
          "output_type": "stream",
          "name": "stderr",
          "text": [
            "/tmp/ipython-input-1982442451.py:19: UserWarning: PySoundFile failed. Trying audioread instead.\n",
            "  y, sr = librosa.load(input_file, sr=None)  # y = waveform, sr = sample rate\n",
            "/usr/local/lib/python3.12/dist-packages/librosa/core/audio.py:184: FutureWarning: librosa.core.audio.__audioread_load\n",
            "\tDeprecated as of librosa version 0.10.0.\n",
            "\tIt will be removed in librosa version 1.0.\n",
            "  y, sr_native = __audioread_load(path, offset, duration, dtype)\n"
          ]
        },
        {
          "output_type": "stream",
          "name": "stdout",
          "text": [
            "Total duration: 182.85s\n",
            "Splitting into 36 chunks of 5s each...\n",
            "Saved: augmented_chunks/chunk_1_var1.wav\n",
            "Saved: augmented_chunks/chunk_1_var2.wav\n",
            "Saved: augmented_chunks/chunk_1_var3.wav\n",
            "Saved: augmented_chunks/chunk_2_var1.wav\n",
            "Saved: augmented_chunks/chunk_2_var2.wav\n",
            "Saved: augmented_chunks/chunk_2_var3.wav\n",
            "Saved: augmented_chunks/chunk_3_var1.wav\n",
            "Saved: augmented_chunks/chunk_3_var2.wav\n",
            "Saved: augmented_chunks/chunk_3_var3.wav\n",
            "Saved: augmented_chunks/chunk_4_var1.wav\n",
            "Saved: augmented_chunks/chunk_4_var2.wav\n",
            "Saved: augmented_chunks/chunk_4_var3.wav\n",
            "Saved: augmented_chunks/chunk_5_var1.wav\n",
            "Saved: augmented_chunks/chunk_5_var2.wav\n",
            "Saved: augmented_chunks/chunk_5_var3.wav\n",
            "Saved: augmented_chunks/chunk_6_var1.wav\n",
            "Saved: augmented_chunks/chunk_6_var2.wav\n",
            "Saved: augmented_chunks/chunk_6_var3.wav\n",
            "Saved: augmented_chunks/chunk_7_var1.wav\n",
            "Saved: augmented_chunks/chunk_7_var2.wav\n",
            "Saved: augmented_chunks/chunk_7_var3.wav\n",
            "Saved: augmented_chunks/chunk_8_var1.wav\n",
            "Saved: augmented_chunks/chunk_8_var2.wav\n",
            "Saved: augmented_chunks/chunk_8_var3.wav\n",
            "Saved: augmented_chunks/chunk_9_var1.wav\n",
            "Saved: augmented_chunks/chunk_9_var2.wav\n",
            "Saved: augmented_chunks/chunk_9_var3.wav\n",
            "Saved: augmented_chunks/chunk_10_var1.wav\n",
            "Saved: augmented_chunks/chunk_10_var2.wav\n",
            "Saved: augmented_chunks/chunk_10_var3.wav\n",
            "Saved: augmented_chunks/chunk_11_var1.wav\n",
            "Saved: augmented_chunks/chunk_11_var2.wav\n",
            "Saved: augmented_chunks/chunk_11_var3.wav\n",
            "Saved: augmented_chunks/chunk_12_var1.wav\n",
            "Saved: augmented_chunks/chunk_12_var2.wav\n",
            "Saved: augmented_chunks/chunk_12_var3.wav\n",
            "Saved: augmented_chunks/chunk_13_var1.wav\n",
            "Saved: augmented_chunks/chunk_13_var2.wav\n",
            "Saved: augmented_chunks/chunk_13_var3.wav\n",
            "Saved: augmented_chunks/chunk_14_var1.wav\n",
            "Saved: augmented_chunks/chunk_14_var2.wav\n",
            "Saved: augmented_chunks/chunk_14_var3.wav\n",
            "Saved: augmented_chunks/chunk_15_var1.wav\n",
            "Saved: augmented_chunks/chunk_15_var2.wav\n",
            "Saved: augmented_chunks/chunk_15_var3.wav\n",
            "Saved: augmented_chunks/chunk_16_var1.wav\n",
            "Saved: augmented_chunks/chunk_16_var2.wav\n",
            "Saved: augmented_chunks/chunk_16_var3.wav\n",
            "Saved: augmented_chunks/chunk_17_var1.wav\n",
            "Saved: augmented_chunks/chunk_17_var2.wav\n",
            "Saved: augmented_chunks/chunk_17_var3.wav\n",
            "Saved: augmented_chunks/chunk_18_var1.wav\n",
            "Saved: augmented_chunks/chunk_18_var2.wav\n",
            "Saved: augmented_chunks/chunk_18_var3.wav\n",
            "Saved: augmented_chunks/chunk_19_var1.wav\n",
            "Saved: augmented_chunks/chunk_19_var2.wav\n",
            "Saved: augmented_chunks/chunk_19_var3.wav\n",
            "Saved: augmented_chunks/chunk_20_var1.wav\n",
            "Saved: augmented_chunks/chunk_20_var2.wav\n",
            "Saved: augmented_chunks/chunk_20_var3.wav\n",
            "Saved: augmented_chunks/chunk_21_var1.wav\n",
            "Saved: augmented_chunks/chunk_21_var2.wav\n",
            "Saved: augmented_chunks/chunk_21_var3.wav\n",
            "Saved: augmented_chunks/chunk_22_var1.wav\n",
            "Saved: augmented_chunks/chunk_22_var2.wav\n",
            "Saved: augmented_chunks/chunk_22_var3.wav\n",
            "Saved: augmented_chunks/chunk_23_var1.wav\n",
            "Saved: augmented_chunks/chunk_23_var2.wav\n",
            "Saved: augmented_chunks/chunk_23_var3.wav\n",
            "Saved: augmented_chunks/chunk_24_var1.wav\n",
            "Saved: augmented_chunks/chunk_24_var2.wav\n",
            "Saved: augmented_chunks/chunk_24_var3.wav\n",
            "Saved: augmented_chunks/chunk_25_var1.wav\n",
            "Saved: augmented_chunks/chunk_25_var2.wav\n",
            "Saved: augmented_chunks/chunk_25_var3.wav\n",
            "Saved: augmented_chunks/chunk_26_var1.wav\n",
            "Saved: augmented_chunks/chunk_26_var2.wav\n",
            "Saved: augmented_chunks/chunk_26_var3.wav\n",
            "Saved: augmented_chunks/chunk_27_var1.wav\n",
            "Saved: augmented_chunks/chunk_27_var2.wav\n",
            "Saved: augmented_chunks/chunk_27_var3.wav\n",
            "Saved: augmented_chunks/chunk_28_var1.wav\n",
            "Saved: augmented_chunks/chunk_28_var2.wav\n",
            "Saved: augmented_chunks/chunk_28_var3.wav\n",
            "Saved: augmented_chunks/chunk_29_var1.wav\n",
            "Saved: augmented_chunks/chunk_29_var2.wav\n",
            "Saved: augmented_chunks/chunk_29_var3.wav\n",
            "Saved: augmented_chunks/chunk_30_var1.wav\n",
            "Saved: augmented_chunks/chunk_30_var2.wav\n",
            "Saved: augmented_chunks/chunk_30_var3.wav\n",
            "Saved: augmented_chunks/chunk_31_var1.wav\n",
            "Saved: augmented_chunks/chunk_31_var2.wav\n",
            "Saved: augmented_chunks/chunk_31_var3.wav\n",
            "Saved: augmented_chunks/chunk_32_var1.wav\n",
            "Saved: augmented_chunks/chunk_32_var2.wav\n",
            "Saved: augmented_chunks/chunk_32_var3.wav\n",
            "Saved: augmented_chunks/chunk_33_var1.wav\n",
            "Saved: augmented_chunks/chunk_33_var2.wav\n",
            "Saved: augmented_chunks/chunk_33_var3.wav\n",
            "Saved: augmented_chunks/chunk_34_var1.wav\n",
            "Saved: augmented_chunks/chunk_34_var2.wav\n",
            "Saved: augmented_chunks/chunk_34_var3.wav\n",
            "Saved: augmented_chunks/chunk_35_var1.wav\n",
            "Saved: augmented_chunks/chunk_35_var2.wav\n",
            "Saved: augmented_chunks/chunk_35_var3.wav\n",
            "Saved: augmented_chunks/chunk_36_var1.wav\n",
            "Saved: augmented_chunks/chunk_36_var2.wav\n",
            "Saved: augmented_chunks/chunk_36_var3.wav\n",
            "✅ All chunks processed with variations!\n"
          ]
        }
      ],
      "source": [
        "# --- Install dependencies ---\n",
        "!pip install pydub librosa soundfile audiomentations -q\n",
        "\n",
        "import os\n",
        "import librosa\n",
        "import soundfile as sf\n",
        "from audiomentations import Compose, AddGaussianNoise, TimeStretch, PitchShift, Shift\n",
        "\n",
        "# --- Settings ---\n",
        "input_file = \"hey_tm_sample.m4a\"     # Your input file\n",
        "output_dir = \"augmented_chunks\"      # Folder to save results\n",
        "chunk_duration = 5                   # seconds\n",
        "variations_per_chunk = 3             # how many variations per chunk\n",
        "\n",
        "# Create output folder\n",
        "os.makedirs(output_dir, exist_ok=True)\n",
        "\n",
        "# --- Load audio ---\n",
        "y, sr = librosa.load(input_file, sr=None)  # y = waveform, sr = sample rate\n",
        "total_duration = librosa.get_duration(y=y, sr=sr)\n",
        "\n",
        "# --- Define augmentations pipeline ---\n",
        "augment = Compose([\n",
        "    AddGaussianNoise(min_amplitude=0.001, max_amplitude=0.015, p=0.5),\n",
        "    TimeStretch(min_rate=0.9, max_rate=1.1, p=0.5),\n",
        "    PitchShift(min_semitones=-2, max_semitones=2, p=0.5),\n",
        "    Shift(p=0.5)   # default shift (no min/max_fraction needed in new version)\n",
        "])\n",
        "\n",
        "# --- Process chunks ---\n",
        "chunk_samples = chunk_duration * sr\n",
        "num_chunks = int(len(y) / chunk_samples)\n",
        "\n",
        "print(f\"Total duration: {total_duration:.2f}s\")\n",
        "print(f\"Splitting into {num_chunks} chunks of {chunk_duration}s each...\")\n",
        "\n",
        "for i in range(num_chunks):\n",
        "    start = i * chunk_samples\n",
        "    end = start + chunk_samples\n",
        "    chunk = y[start:end]\n",
        "\n",
        "    for v in range(variations_per_chunk):\n",
        "        augmented_chunk = augment(samples=chunk, sample_rate=sr)\n",
        "        filename = f\"chunk_{i+1}_var{v+1}.wav\"\n",
        "        filepath = os.path.join(output_dir, filename)\n",
        "        sf.write(filepath, augmented_chunk, sr)\n",
        "        print(f\"Saved: {filepath}\")\n",
        "\n",
        "print(\"✅ All chunks processed with variations!\")\n"
      ]
    },
    {
      "cell_type": "code",
      "source": [
        "# --- Install dependencies ---\n",
        "!pip install pydub librosa soundfile audiomentations -q\n",
        "\n",
        "import os\n",
        "from pydub import AudioSegment\n",
        "import librosa\n",
        "import soundfile as sf\n",
        "from audiomentations import Compose, AddGaussianNoise, TimeStretch, PitchShift, Shift\n",
        "from google.colab import files\n",
        "\n",
        "# --- Upload your hey_tm_sample.m4a file ---\n",
        "uploaded = files.upload()\n",
        "\n",
        "# --- Load audio ---\n",
        "input_file = \"hey_tm_sample.m4a\"  # make sure name matches uploaded file\n",
        "audio = AudioSegment.from_file(input_file, format=\"m4a\")\n",
        "\n",
        "# --- Split into chunks (e.g., 3 seconds each) ---\n",
        "chunk_length = 3000  # milliseconds\n",
        "chunks = [audio[i:i+chunk_length] for i in range(0, len(audio), chunk_length)]\n",
        "\n",
        "# --- Define augmentations ---\n",
        "augment = Compose([\n",
        "    AddGaussianNoise(min_amplitude=0.001, max_amplitude=0.015, p=0.5),\n",
        "    TimeStretch(min_rate=0.9, max_rate=1.1, p=0.5),\n",
        "    PitchShift(min_semitones=-2, max_semitones=2, p=0.5),\n",
        "    Shift(min_shift=-0.2, max_shift=0.2, p=0.5),\n",
        "])\n",
        "\n",
        "# --- Make folder for results ---\n",
        "os.makedirs(\"chunk_variations\", exist_ok=True)\n",
        "\n",
        "# --- Process each chunk ---\n",
        "variation_per_chunk = 5  # e.g., 5 variations per chunk\n",
        "for idx, chunk in enumerate(chunks):\n",
        "    # Save the base chunk first\n",
        "    chunk_path = f\"chunk_variations/chunk_{idx}.wav\"\n",
        "    chunk.export(chunk_path, format=\"wav\")\n",
        "\n",
        "    # Load chunk with librosa\n",
        "    samples, sample_rate = librosa.load(chunk_path, sr=None)\n",
        "\n",
        "    # Generate variations for this chunk\n",
        "    for v in range(variation_per_chunk):\n",
        "        augmented = augment(samples=samples, sample_rate=sample_rate)\n",
        "        out_path = f\"chunk_variations/chunk_{idx}_var_{v+1}.wav\"\n",
        "        sf.write(out_path, augmented, sample_rate)\n",
        "\n",
        "    print(f\"✅ Finished chunk {idx}, saved base + {variation_per_chunk} variations\")\n",
        "\n",
        "print(\"🎉 All chunks done! Check 'chunk_variations' folder.\")\n"
      ],
      "metadata": {
        "colab": {
          "base_uri": "https://localhost:8080/",
          "height": 1000
        },
        "id": "kcaDVkS8mlbJ",
        "outputId": "b819cc14-c2e9-4d69-d6d4-02096b8e7e0b"
      },
      "execution_count": 2,
      "outputs": [
        {
          "output_type": "stream",
          "name": "stderr",
          "text": [
            "/usr/local/lib/python3.12/dist-packages/pydub/utils.py:300: SyntaxWarning: invalid escape sequence '\\('\n",
            "  m = re.match('([su]([0-9]{1,2})p?) \\(([0-9]{1,2}) bit\\)$', token)\n",
            "/usr/local/lib/python3.12/dist-packages/pydub/utils.py:301: SyntaxWarning: invalid escape sequence '\\('\n",
            "  m2 = re.match('([su]([0-9]{1,2})p?)( \\(default\\))?$', token)\n",
            "/usr/local/lib/python3.12/dist-packages/pydub/utils.py:310: SyntaxWarning: invalid escape sequence '\\('\n",
            "  elif re.match('(flt)p?( \\(default\\))?$', token):\n",
            "/usr/local/lib/python3.12/dist-packages/pydub/utils.py:314: SyntaxWarning: invalid escape sequence '\\('\n",
            "  elif re.match('(dbl)p?( \\(default\\))?$', token):\n"
          ]
        },
        {
          "output_type": "display_data",
          "data": {
            "text/plain": [
              "<IPython.core.display.HTML object>"
            ],
            "text/html": [
              "\n",
              "     <input type=\"file\" id=\"files-99bbd342-1c91-4890-9558-4d81fe5f0fa2\" name=\"files[]\" multiple disabled\n",
              "        style=\"border:none\" />\n",
              "     <output id=\"result-99bbd342-1c91-4890-9558-4d81fe5f0fa2\">\n",
              "      Upload widget is only available when the cell has been executed in the\n",
              "      current browser session. Please rerun this cell to enable.\n",
              "      </output>\n",
              "      <script>// Copyright 2017 Google LLC\n",
              "//\n",
              "// Licensed under the Apache License, Version 2.0 (the \"License\");\n",
              "// you may not use this file except in compliance with the License.\n",
              "// You may obtain a copy of the License at\n",
              "//\n",
              "//      http://www.apache.org/licenses/LICENSE-2.0\n",
              "//\n",
              "// Unless required by applicable law or agreed to in writing, software\n",
              "// distributed under the License is distributed on an \"AS IS\" BASIS,\n",
              "// WITHOUT WARRANTIES OR CONDITIONS OF ANY KIND, either express or implied.\n",
              "// See the License for the specific language governing permissions and\n",
              "// limitations under the License.\n",
              "\n",
              "/**\n",
              " * @fileoverview Helpers for google.colab Python module.\n",
              " */\n",
              "(function(scope) {\n",
              "function span(text, styleAttributes = {}) {\n",
              "  const element = document.createElement('span');\n",
              "  element.textContent = text;\n",
              "  for (const key of Object.keys(styleAttributes)) {\n",
              "    element.style[key] = styleAttributes[key];\n",
              "  }\n",
              "  return element;\n",
              "}\n",
              "\n",
              "// Max number of bytes which will be uploaded at a time.\n",
              "const MAX_PAYLOAD_SIZE = 100 * 1024;\n",
              "\n",
              "function _uploadFiles(inputId, outputId) {\n",
              "  const steps = uploadFilesStep(inputId, outputId);\n",
              "  const outputElement = document.getElementById(outputId);\n",
              "  // Cache steps on the outputElement to make it available for the next call\n",
              "  // to uploadFilesContinue from Python.\n",
              "  outputElement.steps = steps;\n",
              "\n",
              "  return _uploadFilesContinue(outputId);\n",
              "}\n",
              "\n",
              "// This is roughly an async generator (not supported in the browser yet),\n",
              "// where there are multiple asynchronous steps and the Python side is going\n",
              "// to poll for completion of each step.\n",
              "// This uses a Promise to block the python side on completion of each step,\n",
              "// then passes the result of the previous step as the input to the next step.\n",
              "function _uploadFilesContinue(outputId) {\n",
              "  const outputElement = document.getElementById(outputId);\n",
              "  const steps = outputElement.steps;\n",
              "\n",
              "  const next = steps.next(outputElement.lastPromiseValue);\n",
              "  return Promise.resolve(next.value.promise).then((value) => {\n",
              "    // Cache the last promise value to make it available to the next\n",
              "    // step of the generator.\n",
              "    outputElement.lastPromiseValue = value;\n",
              "    return next.value.response;\n",
              "  });\n",
              "}\n",
              "\n",
              "/**\n",
              " * Generator function which is called between each async step of the upload\n",
              " * process.\n",
              " * @param {string} inputId Element ID of the input file picker element.\n",
              " * @param {string} outputId Element ID of the output display.\n",
              " * @return {!Iterable<!Object>} Iterable of next steps.\n",
              " */\n",
              "function* uploadFilesStep(inputId, outputId) {\n",
              "  const inputElement = document.getElementById(inputId);\n",
              "  inputElement.disabled = false;\n",
              "\n",
              "  const outputElement = document.getElementById(outputId);\n",
              "  outputElement.innerHTML = '';\n",
              "\n",
              "  const pickedPromise = new Promise((resolve) => {\n",
              "    inputElement.addEventListener('change', (e) => {\n",
              "      resolve(e.target.files);\n",
              "    });\n",
              "  });\n",
              "\n",
              "  const cancel = document.createElement('button');\n",
              "  inputElement.parentElement.appendChild(cancel);\n",
              "  cancel.textContent = 'Cancel upload';\n",
              "  const cancelPromise = new Promise((resolve) => {\n",
              "    cancel.onclick = () => {\n",
              "      resolve(null);\n",
              "    };\n",
              "  });\n",
              "\n",
              "  // Wait for the user to pick the files.\n",
              "  const files = yield {\n",
              "    promise: Promise.race([pickedPromise, cancelPromise]),\n",
              "    response: {\n",
              "      action: 'starting',\n",
              "    }\n",
              "  };\n",
              "\n",
              "  cancel.remove();\n",
              "\n",
              "  // Disable the input element since further picks are not allowed.\n",
              "  inputElement.disabled = true;\n",
              "\n",
              "  if (!files) {\n",
              "    return {\n",
              "      response: {\n",
              "        action: 'complete',\n",
              "      }\n",
              "    };\n",
              "  }\n",
              "\n",
              "  for (const file of files) {\n",
              "    const li = document.createElement('li');\n",
              "    li.append(span(file.name, {fontWeight: 'bold'}));\n",
              "    li.append(span(\n",
              "        `(${file.type || 'n/a'}) - ${file.size} bytes, ` +\n",
              "        `last modified: ${\n",
              "            file.lastModifiedDate ? file.lastModifiedDate.toLocaleDateString() :\n",
              "                                    'n/a'} - `));\n",
              "    const percent = span('0% done');\n",
              "    li.appendChild(percent);\n",
              "\n",
              "    outputElement.appendChild(li);\n",
              "\n",
              "    const fileDataPromise = new Promise((resolve) => {\n",
              "      const reader = new FileReader();\n",
              "      reader.onload = (e) => {\n",
              "        resolve(e.target.result);\n",
              "      };\n",
              "      reader.readAsArrayBuffer(file);\n",
              "    });\n",
              "    // Wait for the data to be ready.\n",
              "    let fileData = yield {\n",
              "      promise: fileDataPromise,\n",
              "      response: {\n",
              "        action: 'continue',\n",
              "      }\n",
              "    };\n",
              "\n",
              "    // Use a chunked sending to avoid message size limits. See b/62115660.\n",
              "    let position = 0;\n",
              "    do {\n",
              "      const length = Math.min(fileData.byteLength - position, MAX_PAYLOAD_SIZE);\n",
              "      const chunk = new Uint8Array(fileData, position, length);\n",
              "      position += length;\n",
              "\n",
              "      const base64 = btoa(String.fromCharCode.apply(null, chunk));\n",
              "      yield {\n",
              "        response: {\n",
              "          action: 'append',\n",
              "          file: file.name,\n",
              "          data: base64,\n",
              "        },\n",
              "      };\n",
              "\n",
              "      let percentDone = fileData.byteLength === 0 ?\n",
              "          100 :\n",
              "          Math.round((position / fileData.byteLength) * 100);\n",
              "      percent.textContent = `${percentDone}% done`;\n",
              "\n",
              "    } while (position < fileData.byteLength);\n",
              "  }\n",
              "\n",
              "  // All done.\n",
              "  yield {\n",
              "    response: {\n",
              "      action: 'complete',\n",
              "    }\n",
              "  };\n",
              "}\n",
              "\n",
              "scope.google = scope.google || {};\n",
              "scope.google.colab = scope.google.colab || {};\n",
              "scope.google.colab._files = {\n",
              "  _uploadFiles,\n",
              "  _uploadFilesContinue,\n",
              "};\n",
              "})(self);\n",
              "</script> "
            ]
          },
          "metadata": {}
        },
        {
          "output_type": "stream",
          "name": "stdout",
          "text": [
            "Saving hey_tm_sample.m4a to hey_tm_sample (1).m4a\n",
            "✅ Finished chunk 0, saved base + 5 variations\n",
            "✅ Finished chunk 1, saved base + 5 variations\n",
            "✅ Finished chunk 2, saved base + 5 variations\n",
            "✅ Finished chunk 3, saved base + 5 variations\n",
            "✅ Finished chunk 4, saved base + 5 variations\n",
            "✅ Finished chunk 5, saved base + 5 variations\n",
            "✅ Finished chunk 6, saved base + 5 variations\n",
            "✅ Finished chunk 7, saved base + 5 variations\n",
            "✅ Finished chunk 8, saved base + 5 variations\n",
            "✅ Finished chunk 9, saved base + 5 variations\n",
            "✅ Finished chunk 10, saved base + 5 variations\n",
            "✅ Finished chunk 11, saved base + 5 variations\n",
            "✅ Finished chunk 12, saved base + 5 variations\n",
            "✅ Finished chunk 13, saved base + 5 variations\n",
            "✅ Finished chunk 14, saved base + 5 variations\n",
            "✅ Finished chunk 15, saved base + 5 variations\n",
            "✅ Finished chunk 16, saved base + 5 variations\n",
            "✅ Finished chunk 17, saved base + 5 variations\n",
            "✅ Finished chunk 18, saved base + 5 variations\n",
            "✅ Finished chunk 19, saved base + 5 variations\n",
            "✅ Finished chunk 20, saved base + 5 variations\n",
            "✅ Finished chunk 21, saved base + 5 variations\n",
            "✅ Finished chunk 22, saved base + 5 variations\n",
            "✅ Finished chunk 23, saved base + 5 variations\n",
            "✅ Finished chunk 24, saved base + 5 variations\n",
            "✅ Finished chunk 25, saved base + 5 variations\n",
            "✅ Finished chunk 26, saved base + 5 variations\n",
            "✅ Finished chunk 27, saved base + 5 variations\n",
            "✅ Finished chunk 28, saved base + 5 variations\n",
            "✅ Finished chunk 29, saved base + 5 variations\n",
            "✅ Finished chunk 30, saved base + 5 variations\n",
            "✅ Finished chunk 31, saved base + 5 variations\n",
            "✅ Finished chunk 32, saved base + 5 variations\n",
            "✅ Finished chunk 33, saved base + 5 variations\n",
            "✅ Finished chunk 34, saved base + 5 variations\n",
            "✅ Finished chunk 35, saved base + 5 variations\n",
            "✅ Finished chunk 36, saved base + 5 variations\n",
            "✅ Finished chunk 37, saved base + 5 variations\n",
            "✅ Finished chunk 38, saved base + 5 variations\n",
            "✅ Finished chunk 39, saved base + 5 variations\n",
            "✅ Finished chunk 40, saved base + 5 variations\n",
            "✅ Finished chunk 41, saved base + 5 variations\n",
            "✅ Finished chunk 42, saved base + 5 variations\n",
            "✅ Finished chunk 43, saved base + 5 variations\n",
            "✅ Finished chunk 44, saved base + 5 variations\n",
            "✅ Finished chunk 45, saved base + 5 variations\n",
            "✅ Finished chunk 46, saved base + 5 variations\n",
            "✅ Finished chunk 47, saved base + 5 variations\n",
            "✅ Finished chunk 48, saved base + 5 variations\n",
            "✅ Finished chunk 49, saved base + 5 variations\n",
            "✅ Finished chunk 50, saved base + 5 variations\n",
            "✅ Finished chunk 51, saved base + 5 variations\n",
            "✅ Finished chunk 52, saved base + 5 variations\n",
            "✅ Finished chunk 53, saved base + 5 variations\n",
            "✅ Finished chunk 54, saved base + 5 variations\n",
            "✅ Finished chunk 55, saved base + 5 variations\n",
            "✅ Finished chunk 56, saved base + 5 variations\n",
            "✅ Finished chunk 57, saved base + 5 variations\n",
            "✅ Finished chunk 58, saved base + 5 variations\n",
            "✅ Finished chunk 59, saved base + 5 variations\n",
            "✅ Finished chunk 60, saved base + 5 variations\n",
            "🎉 All chunks done! Check 'chunk_variations' folder.\n"
          ]
        }
      ]
    },
    {
      "cell_type": "markdown",
      "source": [
        "# **Generating Negative Samples**"
      ],
      "metadata": {
        "id": "VAnJ5wbnrlT-"
      }
    },
    {
      "cell_type": "code",
      "source": [
        "!pip install pydub gtts -q\n",
        "\n",
        "from pydub import AudioSegment\n",
        "from pydub.generators import WhiteNoise, Sine\n",
        "from gtts import gTTS\n",
        "import random, os\n",
        "\n",
        "# --- Settings ---\n",
        "NEGATIVE_SAMPLES = 300\n",
        "duration_ms = 2000  # 2 seconds each\n",
        "output_dir = \"negative_samples\"\n",
        "os.makedirs(output_dir, exist_ok=True)\n",
        "\n",
        "def generate_negative_sample(idx):\n",
        "    choice = random.choice([\"silence\", \"noise\", \"tone\", \"speech\"])\n",
        "\n",
        "    if choice == \"silence\":\n",
        "        audio = AudioSegment.silent(duration=duration_ms)\n",
        "\n",
        "    elif choice == \"noise\":\n",
        "        audio = WhiteNoise().to_audio_segment(duration=duration_ms, volume=random.randint(-25, -10))\n",
        "\n",
        "    elif choice == \"tone\":\n",
        "        freq = random.choice([220, 440, 880])  # A few different tones\n",
        "        audio = Sine(freq).to_audio_segment(duration=duration_ms, volume=-15)\n",
        "\n",
        "    elif choice == \"speech\":\n",
        "        word = random.choice([\"hello\", \"computer\", \"test\", \"openai\", \"goodbye\"])\n",
        "        tts = gTTS(word, lang=\"en\")\n",
        "        tmp_path = f\"{output_dir}/tmp_{idx}.mp3\"\n",
        "        tts.save(tmp_path)\n",
        "        audio = AudioSegment.from_mp3(tmp_path)\n",
        "        os.remove(tmp_path)\n",
        "\n",
        "    # Export sample\n",
        "    out_path = f\"{output_dir}/neg_{idx}.wav\"\n",
        "    audio.export(out_path, format=\"wav\")\n",
        "\n",
        "# --- Generate all negative samples ---\n",
        "for i in range(NEGATIVE_SAMPLES):\n",
        "    generate_negative_sample(i)\n",
        "\n",
        "print(f\"✅ Generated {NEGATIVE_SAMPLES} negative samples in '{output_dir}' folder\")\n"
      ],
      "metadata": {
        "colab": {
          "base_uri": "https://localhost:8080/"
        },
        "id": "pJTTmCcjrtiv",
        "outputId": "54fb4f79-9b5f-4309-900e-eb0e5ba3fff9"
      },
      "execution_count": 4,
      "outputs": [
        {
          "output_type": "stream",
          "name": "stdout",
          "text": [
            "✅ Generated 300 negative samples in 'negative_samples' folder\n"
          ]
        }
      ]
    },
    {
      "cell_type": "markdown",
      "source": [
        "# **Training Model**"
      ],
      "metadata": {
        "id": "8pQAZcBOoXLv"
      }
    },
    {
      "cell_type": "markdown",
      "source": [
        "1. Install + Import Necessary Library"
      ],
      "metadata": {
        "id": "2x_D2IoztT0v"
      }
    },
    {
      "cell_type": "code",
      "source": [
        "!pip install librosa tensorflow soundfile -q\n"
      ],
      "metadata": {
        "id": "gnc3fktWodyx"
      },
      "execution_count": 5,
      "outputs": []
    },
    {
      "cell_type": "markdown",
      "source": [
        "2. Preprocess Audio -> Mel Spectograms"
      ],
      "metadata": {
        "id": "5iKdkpY3uYMM"
      }
    },
    {
      "cell_type": "code",
      "source": [
        "import librosa\n",
        "import numpy as np\n",
        "import os\n",
        "\n",
        "def extract_features(file_path, label):\n",
        "    try:\n",
        "        # Load audio\n",
        "        y, sr = librosa.load(file_path, sr=None)\n",
        "        if len(y) == 0:\n",
        "            print(f\"⚠️ Skipped empty file: {file_path}\")\n",
        "            return None, None\n",
        "\n",
        "        # Extract MFCC features\n",
        "        mfcc = librosa.feature.mfcc(y=y, sr=sr, n_mfcc=40)\n",
        "        mfcc_scaled = np.mean(mfcc.T, axis=0)\n",
        "\n",
        "        return mfcc_scaled, label\n",
        "\n",
        "    except Exception as e:\n",
        "        print(f\"❌ Error with file {file_path}: {e}\")\n",
        "        return None, None\n",
        "\n",
        "# --- Paths to your datasets (inside \"dataset\" folder) ---\n",
        "dataset_dir = \"dataset\"\n",
        "positive_dir = os.path.join(dataset_dir, \"positive_samples\")\n",
        "negative_dir = os.path.join(dataset_dir, \"negative_samples\")\n",
        "\n",
        "features = []\n",
        "labels = []\n",
        "\n",
        "# --- Process positive samples ---\n",
        "for file in os.listdir(positive_dir):\n",
        "    file_path = os.path.join(positive_dir, file)\n",
        "    f, l = extract_features(file_path, 1)\n",
        "    if f is not None:\n",
        "        features.append(f)\n",
        "        labels.append(l)\n",
        "    else:\n",
        "        print(f\"Skipped (positive): {file_path}\")\n",
        "\n",
        "# --- Process negative samples ---\n",
        "for file in os.listdir(negative_dir):\n",
        "    file_path = os.path.join(negative_dir, file)\n",
        "    f, l = extract_features(file_path, 0)\n",
        "    if f is not None:\n",
        "        features.append(f)\n",
        "        labels.append(l)\n",
        "    else:\n",
        "        print(f\"Skipped (negative): {file_path}\")\n",
        "\n",
        "features = np.array(features)\n",
        "labels = np.array(labels)\n",
        "\n",
        "print(\"✅ Debug Summary\")\n",
        "print(\"Features shape:\", features.shape)\n",
        "print(\"Labels shape:\", labels.shape)\n"
      ],
      "metadata": {
        "colab": {
          "base_uri": "https://localhost:8080/"
        },
        "id": "bmVBeDCNuc0Z",
        "outputId": "dddfc277-7b9a-4c2e-eb82-482b08c96981"
      },
      "execution_count": 10,
      "outputs": [
        {
          "output_type": "stream",
          "name": "stdout",
          "text": [
            "✅ Debug Summary\n",
            "Features shape: (671, 40)\n",
            "Labels shape: (671,)\n"
          ]
        }
      ]
    },
    {
      "cell_type": "markdown",
      "source": [
        "3. Train + Test Split"
      ],
      "metadata": {
        "id": "sC_LTX00u_m0"
      }
    },
    {
      "cell_type": "code",
      "source": [
        "from sklearn.model_selection import train_test_split\n",
        "\n",
        "# --- Assuming you already have features & labels from step 3 ---\n",
        "print(\"✅ Debug Summary before splitting\")\n",
        "print(\"Features shape:\", features.shape)\n",
        "print(\"Labels shape:\", labels.shape)\n",
        "\n",
        "# --- Split dataset into train/test sets ---\n",
        "X_train, X_test, y_train, y_test = train_test_split(\n",
        "    features, labels, test_size=0.2, random_state=42, stratify=labels\n",
        ")\n",
        "\n",
        "print(\"\\n✅ After train/test split:\")\n",
        "print(\"Training set:\", X_train.shape, y_train.shape)\n",
        "print(\"Test set:\", X_test.shape, y_test.shape)\n"
      ],
      "metadata": {
        "colab": {
          "base_uri": "https://localhost:8080/"
        },
        "id": "YERybE3RvCeq",
        "outputId": "0924d5cd-8ff0-4e8f-e16a-cc549043ee0d"
      },
      "execution_count": 12,
      "outputs": [
        {
          "output_type": "stream",
          "name": "stdout",
          "text": [
            "✅ Debug Summary before splitting\n",
            "Features shape: (671, 40)\n",
            "Labels shape: (671,)\n",
            "\n",
            "✅ After train/test split:\n",
            "Training set: (536, 40) (536,)\n",
            "Test set: (135, 40) (135,)\n"
          ]
        }
      ]
    },
    {
      "cell_type": "markdown",
      "source": [
        "4. Build & Train Model"
      ],
      "metadata": {
        "id": "qXy4kr78zuE5"
      }
    },
    {
      "cell_type": "code",
      "source": [
        "import tensorflow as tf\n",
        "from tensorflow.keras import layers, models\n",
        "\n",
        "# --- Build model ---\n",
        "model = models.Sequential([\n",
        "    layers.Input(shape=(40,)),                        # 40 MFCC features\n",
        "    layers.Dense(128, activation=\"relu\"),             # hidden layer\n",
        "    layers.Dropout(0.3),                              # prevent overfitting\n",
        "    layers.Dense(64, activation=\"relu\"),\n",
        "    layers.Dropout(0.3),\n",
        "    layers.Dense(1, activation=\"sigmoid\")             # binary classification\n",
        "])\n",
        "\n",
        "model.compile(\n",
        "    optimizer=\"adam\",\n",
        "    loss=\"binary_crossentropy\",\n",
        "    metrics=[\"accuracy\"]\n",
        ")\n",
        "\n",
        "# --- Train model ---\n",
        "history = model.fit(\n",
        "    X_train, y_train,\n",
        "    validation_data=(X_test, y_test),\n",
        "    epochs=30,\n",
        "    batch_size=32,\n",
        "    verbose=1\n",
        ")\n",
        "\n",
        "# --- Evaluate model ---\n",
        "loss, acc = model.evaluate(X_test, y_test, verbose=0)\n",
        "print(f\"\\n✅ Model accuracy on test set: {acc:.2%}\")\n"
      ],
      "metadata": {
        "colab": {
          "base_uri": "https://localhost:8080/"
        },
        "id": "auhDYA0zztvg",
        "outputId": "136391c0-17f8-4dca-b4fe-83ca14ced701"
      },
      "execution_count": 13,
      "outputs": [
        {
          "output_type": "stream",
          "name": "stdout",
          "text": [
            "Epoch 1/30\n",
            "\u001b[1m17/17\u001b[0m \u001b[32m━━━━━━━━━━━━━━━━━━━━\u001b[0m\u001b[37m\u001b[0m \u001b[1m2s\u001b[0m 28ms/step - accuracy: 0.5152 - loss: 18.4344 - val_accuracy: 0.9630 - val_loss: 0.0739\n",
            "Epoch 2/30\n",
            "\u001b[1m17/17\u001b[0m \u001b[32m━━━━━━━━━━━━━━━━━━━━\u001b[0m\u001b[37m\u001b[0m \u001b[1m0s\u001b[0m 10ms/step - accuracy: 0.7319 - loss: 6.4112 - val_accuracy: 1.0000 - val_loss: 0.0059\n",
            "Epoch 3/30\n",
            "\u001b[1m17/17\u001b[0m \u001b[32m━━━━━━━━━━━━━━━━━━━━\u001b[0m\u001b[37m\u001b[0m \u001b[1m0s\u001b[0m 12ms/step - accuracy: 0.8084 - loss: 2.9611 - val_accuracy: 1.0000 - val_loss: 0.0017\n",
            "Epoch 4/30\n",
            "\u001b[1m17/17\u001b[0m \u001b[32m━━━━━━━━━━━━━━━━━━━━\u001b[0m\u001b[37m\u001b[0m \u001b[1m0s\u001b[0m 11ms/step - accuracy: 0.8882 - loss: 1.1542 - val_accuracy: 1.0000 - val_loss: 9.5196e-04\n",
            "Epoch 5/30\n",
            "\u001b[1m17/17\u001b[0m \u001b[32m━━━━━━━━━━━━━━━━━━━━\u001b[0m\u001b[37m\u001b[0m \u001b[1m0s\u001b[0m 12ms/step - accuracy: 0.9083 - loss: 0.9944 - val_accuracy: 1.0000 - val_loss: 0.0044\n",
            "Epoch 6/30\n",
            "\u001b[1m17/17\u001b[0m \u001b[32m━━━━━━━━━━━━━━━━━━━━\u001b[0m\u001b[37m\u001b[0m \u001b[1m0s\u001b[0m 11ms/step - accuracy: 0.9143 - loss: 0.9565 - val_accuracy: 1.0000 - val_loss: 4.0946e-04\n",
            "Epoch 7/30\n",
            "\u001b[1m17/17\u001b[0m \u001b[32m━━━━━━━━━━━━━━━━━━━━\u001b[0m\u001b[37m\u001b[0m \u001b[1m0s\u001b[0m 8ms/step - accuracy: 0.9468 - loss: 0.4332 - val_accuracy: 1.0000 - val_loss: 4.2420e-04\n",
            "Epoch 8/30\n",
            "\u001b[1m17/17\u001b[0m \u001b[32m━━━━━━━━━━━━━━━━━━━━\u001b[0m\u001b[37m\u001b[0m \u001b[1m0s\u001b[0m 6ms/step - accuracy: 0.9499 - loss: 0.3527 - val_accuracy: 1.0000 - val_loss: 3.7980e-04\n",
            "Epoch 9/30\n",
            "\u001b[1m17/17\u001b[0m \u001b[32m━━━━━━━━━━━━━━━━━━━━\u001b[0m\u001b[37m\u001b[0m \u001b[1m0s\u001b[0m 6ms/step - accuracy: 0.9698 - loss: 0.2161 - val_accuracy: 1.0000 - val_loss: 3.7279e-04\n",
            "Epoch 10/30\n",
            "\u001b[1m17/17\u001b[0m \u001b[32m━━━━━━━━━━━━━━━━━━━━\u001b[0m\u001b[37m\u001b[0m \u001b[1m0s\u001b[0m 7ms/step - accuracy: 0.9824 - loss: 0.1206 - val_accuracy: 1.0000 - val_loss: 3.3613e-04\n",
            "Epoch 11/30\n",
            "\u001b[1m17/17\u001b[0m \u001b[32m━━━━━━━━━━━━━━━━━━━━\u001b[0m\u001b[37m\u001b[0m \u001b[1m0s\u001b[0m 7ms/step - accuracy: 0.9756 - loss: 0.2170 - val_accuracy: 1.0000 - val_loss: 3.5084e-04\n",
            "Epoch 12/30\n",
            "\u001b[1m17/17\u001b[0m \u001b[32m━━━━━━━━━━━━━━━━━━━━\u001b[0m\u001b[37m\u001b[0m \u001b[1m0s\u001b[0m 7ms/step - accuracy: 0.9812 - loss: 0.3056 - val_accuracy: 1.0000 - val_loss: 2.5994e-04\n",
            "Epoch 13/30\n",
            "\u001b[1m17/17\u001b[0m \u001b[32m━━━━━━━━━━━━━━━━━━━━\u001b[0m\u001b[37m\u001b[0m \u001b[1m0s\u001b[0m 7ms/step - accuracy: 0.9599 - loss: 0.2743 - val_accuracy: 1.0000 - val_loss: 2.9387e-04\n",
            "Epoch 14/30\n",
            "\u001b[1m17/17\u001b[0m \u001b[32m━━━━━━━━━━━━━━━━━━━━\u001b[0m\u001b[37m\u001b[0m \u001b[1m0s\u001b[0m 7ms/step - accuracy: 0.9875 - loss: 0.1096 - val_accuracy: 1.0000 - val_loss: 2.6277e-04\n",
            "Epoch 15/30\n",
            "\u001b[1m17/17\u001b[0m \u001b[32m━━━━━━━━━━━━━━━━━━━━\u001b[0m\u001b[37m\u001b[0m \u001b[1m0s\u001b[0m 6ms/step - accuracy: 0.9916 - loss: 0.0240 - val_accuracy: 1.0000 - val_loss: 2.5343e-04\n",
            "Epoch 16/30\n",
            "\u001b[1m17/17\u001b[0m \u001b[32m━━━━━━━━━━━━━━━━━━━━\u001b[0m\u001b[37m\u001b[0m \u001b[1m0s\u001b[0m 7ms/step - accuracy: 0.9923 - loss: 0.0445 - val_accuracy: 1.0000 - val_loss: 2.1916e-04\n",
            "Epoch 17/30\n",
            "\u001b[1m17/17\u001b[0m \u001b[32m━━━━━━━━━━━━━━━━━━━━\u001b[0m\u001b[37m\u001b[0m \u001b[1m0s\u001b[0m 6ms/step - accuracy: 0.9938 - loss: 0.1154 - val_accuracy: 1.0000 - val_loss: 1.9707e-04\n",
            "Epoch 18/30\n",
            "\u001b[1m17/17\u001b[0m \u001b[32m━━━━━━━━━━━━━━━━━━━━\u001b[0m\u001b[37m\u001b[0m \u001b[1m0s\u001b[0m 6ms/step - accuracy: 0.9744 - loss: 0.1499 - val_accuracy: 1.0000 - val_loss: 1.8281e-04\n",
            "Epoch 19/30\n",
            "\u001b[1m17/17\u001b[0m \u001b[32m━━━━━━━━━━━━━━━━━━━━\u001b[0m\u001b[37m\u001b[0m \u001b[1m0s\u001b[0m 7ms/step - accuracy: 0.9757 - loss: 0.1707 - val_accuracy: 1.0000 - val_loss: 1.8005e-04\n",
            "Epoch 20/30\n",
            "\u001b[1m17/17\u001b[0m \u001b[32m━━━━━━━━━━━━━━━━━━━━\u001b[0m\u001b[37m\u001b[0m \u001b[1m0s\u001b[0m 6ms/step - accuracy: 0.9747 - loss: 0.1871 - val_accuracy: 1.0000 - val_loss: 1.1228e-04\n",
            "Epoch 21/30\n",
            "\u001b[1m17/17\u001b[0m \u001b[32m━━━━━━━━━━━━━━━━━━━━\u001b[0m\u001b[37m\u001b[0m \u001b[1m0s\u001b[0m 7ms/step - accuracy: 0.9934 - loss: 0.0584 - val_accuracy: 1.0000 - val_loss: 1.1466e-04\n",
            "Epoch 22/30\n",
            "\u001b[1m17/17\u001b[0m \u001b[32m━━━━━━━━━━━━━━━━━━━━\u001b[0m\u001b[37m\u001b[0m \u001b[1m0s\u001b[0m 6ms/step - accuracy: 0.9965 - loss: 0.0192 - val_accuracy: 1.0000 - val_loss: 1.1870e-04\n",
            "Epoch 23/30\n",
            "\u001b[1m17/17\u001b[0m \u001b[32m━━━━━━━━━━━━━━━━━━━━\u001b[0m\u001b[37m\u001b[0m \u001b[1m0s\u001b[0m 7ms/step - accuracy: 0.9973 - loss: 0.0199 - val_accuracy: 1.0000 - val_loss: 1.1892e-04\n",
            "Epoch 24/30\n",
            "\u001b[1m17/17\u001b[0m \u001b[32m━━━━━━━━━━━━━━━━━━━━\u001b[0m\u001b[37m\u001b[0m \u001b[1m0s\u001b[0m 7ms/step - accuracy: 0.9889 - loss: 0.0825 - val_accuracy: 1.0000 - val_loss: 9.9706e-05\n",
            "Epoch 25/30\n",
            "\u001b[1m17/17\u001b[0m \u001b[32m━━━━━━━━━━━━━━━━━━━━\u001b[0m\u001b[37m\u001b[0m \u001b[1m0s\u001b[0m 6ms/step - accuracy: 0.9899 - loss: 0.0810 - val_accuracy: 1.0000 - val_loss: 7.7615e-05\n",
            "Epoch 26/30\n",
            "\u001b[1m17/17\u001b[0m \u001b[32m━━━━━━━━━━━━━━━━━━━━\u001b[0m\u001b[37m\u001b[0m \u001b[1m0s\u001b[0m 6ms/step - accuracy: 0.9863 - loss: 0.1025 - val_accuracy: 1.0000 - val_loss: 5.9113e-05\n",
            "Epoch 27/30\n",
            "\u001b[1m17/17\u001b[0m \u001b[32m━━━━━━━━━━━━━━━━━━━━\u001b[0m\u001b[37m\u001b[0m \u001b[1m0s\u001b[0m 7ms/step - accuracy: 0.9916 - loss: 0.0630 - val_accuracy: 1.0000 - val_loss: 6.0193e-05\n",
            "Epoch 28/30\n",
            "\u001b[1m17/17\u001b[0m \u001b[32m━━━━━━━━━━━━━━━━━━━━\u001b[0m\u001b[37m\u001b[0m \u001b[1m0s\u001b[0m 6ms/step - accuracy: 0.9923 - loss: 0.0257 - val_accuracy: 1.0000 - val_loss: 5.1134e-05\n",
            "Epoch 29/30\n",
            "\u001b[1m17/17\u001b[0m \u001b[32m━━━━━━━━━━━━━━━━━━━━\u001b[0m\u001b[37m\u001b[0m \u001b[1m0s\u001b[0m 6ms/step - accuracy: 0.9976 - loss: 0.0317 - val_accuracy: 1.0000 - val_loss: 4.4052e-05\n",
            "Epoch 30/30\n",
            "\u001b[1m17/17\u001b[0m \u001b[32m━━━━━━━━━━━━━━━━━━━━\u001b[0m\u001b[37m\u001b[0m \u001b[1m0s\u001b[0m 6ms/step - accuracy: 0.9975 - loss: 0.0219 - val_accuracy: 1.0000 - val_loss: 4.3552e-05\n",
            "\n",
            "✅ Model accuracy on test set: 100.00%\n"
          ]
        }
      ]
    },
    {
      "cell_type": "markdown",
      "source": [
        "5. Evaluate & Visualize Training"
      ],
      "metadata": {
        "id": "R7-oVTl2z8fQ"
      }
    },
    {
      "cell_type": "code",
      "source": [
        "import matplotlib.pyplot as plt\n",
        "\n",
        "# Plot accuracy\n",
        "plt.plot(history.history['accuracy'], label='Train Acc')\n",
        "plt.plot(history.history['val_accuracy'], label='Val Acc')\n",
        "plt.legend()\n",
        "plt.title(\"Training vs Validation Accuracy\")\n",
        "plt.show()\n",
        "\n",
        "# Plot loss\n",
        "plt.plot(history.history['loss'], label='Train Loss')\n",
        "plt.plot(history.history['val_loss'], label='Val Loss')\n",
        "plt.legend()\n",
        "plt.title(\"Training vs Validation Loss\")\n",
        "plt.show()\n"
      ],
      "metadata": {
        "colab": {
          "base_uri": "https://localhost:8080/",
          "height": 887
        },
        "id": "PPNgETR70L8z",
        "outputId": "2fc8026f-f6ee-4750-da23-975245aa09c2"
      },
      "execution_count": 14,
      "outputs": [
        {
          "output_type": "display_data",
          "data": {
            "text/plain": [
              "<Figure size 640x480 with 1 Axes>"
            ],
            "image/png": "[encoded data removed]"
          },
          "metadata": {}
        },
        {
          "output_type": "display_data",
          "data": {
            "text/plain": [
              "<Figure size 640x480 with 1 Axes>"
            ],
            "image/png": "[encoded data removed]"
          },
          "metadata": {}
        }
      ]
    },
    {
      "cell_type": "markdown",
      "source": [
        "6. Save the generated Model"
      ],
      "metadata": {
        "id": "l7hOfoVE0pvV"
      }
    },
    {
      "cell_type": "code",
      "source": [
        "model.save(\"hey_tm_model.h5\")\n"
      ],
      "metadata": {
        "colab": {
          "base_uri": "https://localhost:8080/"
        },
        "id": "F4bNqt-K0u1o",
        "outputId": "fa9e8107-145f-4054-b6f5-d9d333391d37"
      },
      "execution_count": 15,
      "outputs": [
        {
          "output_type": "stream",
          "name": "stderr",
          "text": [
            "WARNING:absl:You are saving your model as an HDF5 file via `model.save()` or `keras.saving.save_model(model)`. This file format is considered legacy. We recommend using instead the native Keras format, e.g. `model.save('my_model.keras')` or `keras.saving.save_model(model, 'my_model.keras')`. \n"
          ]
        }
      ]
    },
    {
      "cell_type": "markdown",
      "source": [
        "7. Convert model into TFLite (For Flutter Purpose)"
      ],
      "metadata": {
        "id": "87hE2g_H2huK"
      }
    },
    {
      "cell_type": "code",
      "source": [
        "import tensorflow as tf\n",
        "\n",
        "# Load your Keras model\n",
        "model = tf.keras.models.load_model(\"hey_tm_model.h5\")\n",
        "\n",
        "# Convert to TFLite\n",
        "converter = tf.lite.TFLiteConverter.from_keras_model(model)\n",
        "tflite_model = converter.convert()\n",
        "\n",
        "# Save the TFLite model\n",
        "with open(\"hey_tm_model.tflite\", \"wb\") as f:\n",
        "    f.write(tflite_model)\n",
        "\n",
        "print(\"TFLite model saved as hey_tm_model.tflite\")\n"
      ],
      "metadata": {
        "colab": {
          "base_uri": "https://localhost:8080/"
        },
        "id": "2TIg7bIs2oJi",
        "outputId": "f3b25de5-9c61-4edd-b113-cc895f16d2cd"
      },
      "execution_count": 16,
      "outputs": [
        {
          "output_type": "stream",
          "name": "stderr",
          "text": [
            "WARNING:absl:Compiled the loaded model, but the compiled metrics have yet to be built. `model.compile_metrics` will be empty until you train or evaluate the model.\n"
          ]
        },
        {
          "output_type": "stream",
          "name": "stdout",
          "text": [
            "Saved artifact at '/tmp/tmpr2rgk29v'. The following endpoints are available:\n",
            "\n",
            "* Endpoint 'serve'\n",
            "  args_0 (POSITIONAL_ONLY): TensorSpec(shape=(None, 40), dtype=tf.float32, name='input_layer')\n",
            "Output Type:\n",
            "  TensorSpec(shape=(None, 1), dtype=tf.float32, name=None)\n",
            "Captures:\n",
            "  136942624248784: TensorSpec(shape=(), dtype=tf.resource, name=None)\n",
            "  136942624253008: TensorSpec(shape=(), dtype=tf.resource, name=None)\n",
            "  136942624253200: TensorSpec(shape=(), dtype=tf.resource, name=None)\n",
            "  136942624253776: TensorSpec(shape=(), dtype=tf.resource, name=None)\n",
            "  136942624254352: TensorSpec(shape=(), dtype=tf.resource, name=None)\n",
            "  136942624254928: TensorSpec(shape=(), dtype=tf.resource, name=None)\n",
            "TFLite model saved as hey_tm_model.tflite\n"
          ]
        }
      ]
    },
    {
      "cell_type": "markdown",
      "source": [
        "## **Model - Data Visualization**"
      ],
      "metadata": {
        "id": "znt5HHtiCWzv"
      }
    },
    {
      "cell_type": "markdown",
      "source": [
        "1. Confusion Matrix"
      ],
      "metadata": {
        "id": "erdtNOI2ClQS"
      }
    },
    {
      "cell_type": "code",
      "source": [
        "from sklearn.metrics import confusion_matrix, ConfusionMatrixDisplay\n",
        "\n",
        "y_pred = model.predict(X_test)\n",
        "y_pred_labels = [1 if p >= 0.5 else 0 for p in y_pred]\n",
        "\n",
        "cm = confusion_matrix(y_test, y_pred_labels)\n",
        "disp = ConfusionMatrixDisplay(confusion_matrix=cm, display_labels=[\"Not Hey TM\", \"Hey TM\"])\n",
        "disp.plot(cmap='Blues')\n"
      ],
      "metadata": {
        "colab": {
          "base_uri": "https://localhost:8080/",
          "height": 484
        },
        "id": "5n-WX9LACnUG",
        "outputId": "40acdf4b-240c-4d87-e2bf-5350be7cb7a4"
      },
      "execution_count": 17,
      "outputs": [
        {
          "output_type": "stream",
          "name": "stdout",
          "text": [
            "\u001b[1m5/5\u001b[0m \u001b[32m━━━━━━━━━━━━━━━━━━━━\u001b[0m\u001b[37m\u001b[0m \u001b[1m1s\u001b[0m 92ms/step\n"
          ]
        },
        {
          "output_type": "execute_result",
          "data": {
            "text/plain": [
              "<sklearn.metrics._plot.confusion_matrix.ConfusionMatrixDisplay at 0x7c8c70554c50>"
            ]
          },
          "metadata": {},
          "execution_count": 17
        },
        {
          "output_type": "display_data",
          "data": {
            "text/plain": [
              "<Figure size 640x480 with 2 Axes>"
            ],
            "image/png": "[encoded data removed]"
          },
          "metadata": {}
        }
      ]
    },
    {
      "cell_type": "markdown",
      "source": [
        "2. Prediction Probability Histogram"
      ],
      "metadata": {
        "id": "Y3A4VKRdCr7c"
      }
    },
    {
      "cell_type": "code",
      "source": [
        "import seaborn as sns\n",
        "\n",
        "mfcc = librosa.feature.mfcc(y=samples, sr=sr, n_mfcc=40)\n",
        "plt.figure(figsize=(10, 4))\n",
        "sns.heatmap(mfcc, cmap='viridis')\n",
        "plt.title(\"MFCC Features\")\n",
        "plt.xlabel(\"Time Frames\")\n",
        "plt.ylabel(\"MFCC Coefficients\")\n",
        "plt.show()\n"
      ],
      "metadata": {
        "colab": {
          "base_uri": "https://localhost:8080/",
          "height": 423
        },
        "id": "MBDUFOEQC7Uw",
        "outputId": "c5cf816d-3bd0-4a6c-cd9e-8de4553e0bc1"
      },
      "execution_count": 21,
      "outputs": [
        {
          "output_type": "display_data",
          "data": {
            "text/plain": [
              "<Figure size 1000x400 with 2 Axes>"
            ],
            "image/png": "[encoded data removed]"
          },
          "metadata": {}
        }
      ]
    },
    {
      "cell_type": "markdown",
      "source": [
        "3. Learning Curves"
      ],
      "metadata": {
        "id": "r7oL00D8DJTX"
      }
    },
    {
      "cell_type": "code",
      "source": [
        "plt.plot(history.history['loss'], label='Train Loss')\n",
        "plt.plot(history.history['val_loss'], label='Val Loss')\n",
        "plt.xlabel('Epoch')\n",
        "plt.ylabel('Loss')\n",
        "plt.legend()\n",
        "plt.show()\n",
        "\n",
        "plt.plot(history.history['accuracy'], label='Train Acc')\n",
        "plt.plot(history.history['val_accuracy'], label='Val Acc')\n",
        "plt.xlabel('Epoch')\n",
        "plt.ylabel('Accuracy')\n",
        "plt.legend()\n",
        "plt.show()\n"
      ],
      "metadata": {
        "colab": {
          "base_uri": "https://localhost:8080/",
          "height": 881
        },
        "id": "Oxa5UjyCDMdF",
        "outputId": "63c59874-6cc2-4fe4-a25f-cf6b4530559e"
      },
      "execution_count": 22,
      "outputs": [
        {
          "output_type": "display_data",
          "data": {
            "text/plain": [
              "<Figure size 640x480 with 1 Axes>"
            ],
            "image/png": "[encoded data removed]"
          },
          "metadata": {}
        },
        {
          "output_type": "display_data",
          "data": {
            "text/plain": [
              "<Figure size 640x480 with 1 Axes>"
            ],
            "image/png": "[encoded data removed]"
          },
          "metadata": {}
        }
      ]
    }
  ]
}